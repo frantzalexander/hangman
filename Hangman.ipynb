{
 "cells": [
  {
   "cell_type": "markdown",
   "id": "e6d8dd9e-81a9-4f47-aba4-0a3d8f8dc9f5",
   "metadata": {
    "tags": []
   },
   "source": [
    "# <en><center>Hangman</center></en>"
   ]
  },
  {
   "cell_type": "markdown",
   "id": "6695bce2-368e-49b1-80db-e7e68326af73",
   "metadata": {},
   "source": [
    "---"
   ]
  },
  {
   "cell_type": "markdown",
   "id": "7e717410-120b-4c25-8192-b38328ab277e",
   "metadata": {},
   "source": [
    "## Libraries"
   ]
  },
  {
   "cell_type": "code",
   "execution_count": 10,
   "id": "7dc8d09d-0904-481a-af48-6c242632886e",
   "metadata": {},
   "outputs": [],
   "source": [
    "import random\n",
    "\n",
    "from hangman_art import stages\n",
    "from hangman_wordlist import word_list"
   ]
  },
  {
   "attachments": {
    "55e80f1f-a2a3-4e44-a450-1bc7735e6f56.png": {
     "image/png": "[encoded data removed]"
    }
   },
   "cell_type": "markdown",
   "id": "a20f2c77-2f43-4be1-8a14-48da7326471e",
   "metadata": {},
   "source": [
    "![SoundCloud.png](attachment:55e80f1f-a2a3-4e44-a450-1bc7735e6f56.png)"
   ]
  },
  {
   "cell_type": "code",
   "execution_count": 13,
   "id": "17568d9f-c56a-4b46-a021-b05a62b435fb",
   "metadata": {},
   "outputs": [
    {
     "name": "stdin",
     "output_type": "stream",
     "text": [
      "Guess a letter: \n",
      " a\n"
     ]
    },
    {
     "name": "stdout",
     "output_type": "stream",
     "text": [
      "\n",
      "  +---+\n",
      "  |   |\n",
      "      |\n",
      "      |\n",
      "      |\n",
      "      |\n",
      "=========\n",
      "\n",
      "You guessed a, this is not in the secret word. \n",
      "You have 6 remaining lives.\n",
      "The letters you have used were: ['a']\n",
      "['_', '_', '_', '_', '_']\n"
     ]
    },
    {
     "name": "stdin",
     "output_type": "stream",
     "text": [
      "Guess a letter: \n",
      " e\n"
     ]
    },
    {
     "name": "stdout",
     "output_type": "stream",
     "text": [
      "\n",
      "  +---+\n",
      "  |   |\n",
      "  O   |\n",
      "      |\n",
      "      |\n",
      "      |\n",
      "=========\n",
      "\n",
      "You guessed e, this is not in the secret word. \n",
      "You have 5 remaining lives.\n",
      "The letters you have used were: ['a', 'e']\n",
      "['_', '_', '_', '_', '_']\n"
     ]
    },
    {
     "name": "stdin",
     "output_type": "stream",
     "text": [
      "Guess a letter: \n",
      " i\n"
     ]
    },
    {
     "name": "stdout",
     "output_type": "stream",
     "text": [
      "['_', '_', 'i', '_', '_']\n"
     ]
    },
    {
     "name": "stdin",
     "output_type": "stream",
     "text": [
      "Guess a letter: \n",
      " s\n"
     ]
    },
    {
     "name": "stdout",
     "output_type": "stream",
     "text": [
      "\n",
      "  +---+\n",
      "  |   |\n",
      "  O   |\n",
      "  |   |\n",
      "      |\n",
      "      |\n",
      "=========\n",
      "\n",
      "You guessed s, this is not in the secret word. \n",
      "You have 4 remaining lives.\n",
      "The letters you have used were: ['a', 'e', 's']\n",
      "['_', '_', 'i', '_', '_']\n"
     ]
    },
    {
     "name": "stdin",
     "output_type": "stream",
     "text": [
      "Guess a letter: \n",
      " g\n"
     ]
    },
    {
     "name": "stdout",
     "output_type": "stream",
     "text": [
      "\n",
      "  +---+\n",
      "  |   |\n",
      "  O   |\n",
      " /|   |\n",
      "      |\n",
      "      |\n",
      "=========\n",
      "You guessed g, this is not in the secret word. \n",
      "You have 3 remaining lives.\n",
      "The letters you have used were: ['a', 'e', 's', 'g']\n",
      "['_', '_', 'i', '_', '_']\n"
     ]
    },
    {
     "name": "stdin",
     "output_type": "stream",
     "text": [
      "Guess a letter: \n",
      " d\n"
     ]
    },
    {
     "name": "stdout",
     "output_type": "stream",
     "text": [
      "\n",
      "  +---+\n",
      "  |   |\n",
      "  O   |\n",
      " /|\\  |\n",
      "      |\n",
      "      |\n",
      "=========\n",
      "\n",
      "You guessed d, this is not in the secret word. \n",
      "You have 2 remaining lives.\n",
      "The letters you have used were: ['a', 'e', 's', 'g', 'd']\n",
      "['_', '_', 'i', '_', '_']\n"
     ]
    },
    {
     "name": "stdin",
     "output_type": "stream",
     "text": [
      "Guess a letter: \n",
      " l\n"
     ]
    },
    {
     "name": "stdout",
     "output_type": "stream",
     "text": [
      "\n",
      "  +---+\n",
      "  |   |\n",
      "  O   |\n",
      " /|\\  |\n",
      " /    |\n",
      "      |\n",
      "=========\n",
      "\n",
      "You guessed l, this is not in the secret word. \n",
      "You have 1 remaining lives.\n",
      "The letters you have used were: ['a', 'e', 's', 'g', 'd', 'l']\n",
      "['_', '_', 'i', '_', '_']\n"
     ]
    },
    {
     "name": "stdin",
     "output_type": "stream",
     "text": [
      "Guess a letter: \n",
      " o\n"
     ]
    },
    {
     "name": "stdout",
     "output_type": "stream",
     "text": [
      "\n",
      "  +---+\n",
      "  |   |\n",
      "  O   |\n",
      " /|\\  |\n",
      " / \\  |\n",
      "      |\n",
      "=========\n",
      "\n",
      "You guessed o, this is not in the secret word. \n",
      "You have 0 remaining lives.\n",
      "The letters you have used were: ['a', 'e', 's', 'g', 'd', 'l', 'o']\n",
      "You lose, the secret word was: juicy\n",
      "['_', '_', 'i', '_', '_']\n"
     ]
    }
   ],
   "source": [
    "chosen_word = random.choice(word_list)\n",
    "\n",
    "display = []\n",
    "for letter in chosen_word:\n",
    "    display.append(\"_\")\n",
    "\n",
    "end_of_game = False\n",
    "lives = 7\n",
    "guessed_letters = []\n",
    "while not end_of_game:\n",
    "    if \"_\" in display:\n",
    "        guess = input(\"Guess a letter: \\n\").lower()\n",
    "        for num in range(0, len(chosen_word)):\n",
    "            if chosen_word[num] == guess:\n",
    "                display[num] = guess\n",
    "        \n",
    "        if guess not in chosen_word:\n",
    "            lives -= 1\n",
    "            guessed_letters += guess \n",
    "            print(stages[lives])\n",
    "            print(\"You guessed {}, this is not in the secret word. \\nYou have {} remaining lives.\".format(guess, lives))\n",
    "            print(\"The incorrect letters you have used were: {}\".format(guessed_letters))\n",
    "            if lives == 0:\n",
    "                end_of_game = True\n",
    "                print(\"You lose, the secret word was: {}\".format(chosen_word))\n",
    "        \n",
    "    else:\n",
    "        print(\"Congratz you correctly guessed the secret word!\")\n",
    "        end_of_game = True\n",
    "    print(display)\n",
    "    "
   ]
  }
 ],
 "metadata": {
  "kernelspec": {
   "display_name": "Python 3 (ipykernel)",
   "language": "python",
   "name": "python3"
  },
  "language_info": {
   "codemirror_mode": {
    "name": "ipython",
    "version": 3
   },
   "file_extension": ".py",
   "mimetype": "text/x-python",
   "name": "python",
   "nbconvert_exporter": "python",
   "pygments_lexer": "ipython3",
   "version": "3.10.10"
  }
 },
 "nbformat": 4,
 "nbformat_minor": 5
}
